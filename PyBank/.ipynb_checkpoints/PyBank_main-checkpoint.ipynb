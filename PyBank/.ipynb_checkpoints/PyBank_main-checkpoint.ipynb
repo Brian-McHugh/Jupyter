{
 "cells": [
  {
   "cell_type": "code",
   "execution_count": 1,
   "metadata": {},
   "outputs": [],
   "source": [
    "# Calculate total number of months in budget_data.csv\n",
    "# Two columns: Date, Profit/Losses"
   ]
  },
  {
   "cell_type": "code",
   "execution_count": 2,
   "metadata": {},
   "outputs": [],
   "source": [
    "# Import dependencies\n",
    "import os\n",
    "import csv"
   ]
  },
  {
   "cell_type": "code",
   "execution_count": 3,
   "metadata": {},
   "outputs": [],
   "source": [
    "# Specify the path to access our data\n",
    "csv_path = os.path.join(\"Resources\", \"budget_data.csv\")"
   ]
  },
  {
   "cell_type": "code",
   "execution_count": 4,
   "metadata": {},
   "outputs": [],
   "source": [
    "# Create lists for each category/column of the csv\n",
    "dates = []\n",
    "PandLs = []"
   ]
  },
  {
   "cell_type": "code",
   "execution_count": 5,
   "metadata": {},
   "outputs": [],
   "source": [
    "# Open and read the csv file\n",
    "with open(csv_path, newline='') as csv_file:\n",
    "    csv_reader = csv.reader(csv_file, delimiter=',')\n",
    "    # Read the header row\n",
    "    csv_header = next(csv_reader)\n",
    "    \n",
    "    # Fill our lists with data\n",
    "    for date, PandL in csv_reader:\n",
    "        dates.append(date)\n",
    "        PandLs.append(int(PandL))"
   ]
  },
  {
   "cell_type": "code",
   "execution_count": 6,
   "metadata": {},
   "outputs": [],
   "source": [
    "# Calculations for our analysis\n",
    "total_months = len(dates)\n",
    "total = sum(PandLs)"
   ]
  },
  {
   "cell_type": "code",
   "execution_count": 7,
   "metadata": {},
   "outputs": [],
   "source": [
    "# Create a list of changes of \"Profit/Losses\" from month to month\n",
    "monthly_change = []\n",
    "for i in range(len(PandLs)):\n",
    "    monthly_change.append(PandLs[i]-PandLs[i-1])"
   ]
  },
  {
   "cell_type": "code",
   "execution_count": 8,
   "metadata": {},
   "outputs": [],
   "source": [
    "# Change the first value so as not to impact our search for max increase/decrease\n",
    "monthly_change[0] = 0"
   ]
  },
  {
   "cell_type": "code",
   "execution_count": 9,
   "metadata": {},
   "outputs": [],
   "source": [
    "# Calculate avg of changes in \"Profit/Losses\" over entire period\n",
    "# First calculation is invalid so we subtract 1 from total months\n",
    "avg_change = sum(monthly_change) / (total_months-1)"
   ]
  },
  {
   "cell_type": "code",
   "execution_count": 10,
   "metadata": {},
   "outputs": [],
   "source": [
    "# Calculate greatest increase in profits over entire period\n",
    "max_increase = max(monthly_change)"
   ]
  },
  {
   "cell_type": "code",
   "execution_count": 11,
   "metadata": {},
   "outputs": [],
   "source": [
    "# Calculate greatest decrease in lossess over entire period\n",
    "max_decrease = min(monthly_change)"
   ]
  },
  {
   "cell_type": "code",
   "execution_count": 12,
   "metadata": {},
   "outputs": [],
   "source": [
    "# Merge dates and monthly change so we can find out max increase/decrease occurred \n",
    "PandL_dict = dict(zip(dates, monthly_change))"
   ]
  },
  {
   "cell_type": "code",
   "execution_count": 13,
   "metadata": {},
   "outputs": [
    {
     "data": {
      "text/plain": [
       "'Feb-2012'"
      ]
     },
     "execution_count": 13,
     "metadata": {},
     "output_type": "execute_result"
    }
   ],
   "source": [
    "# Use the value to find the date (key) that the max increase occurred\n",
    "#max_inc_month = (list(PandL_dict.keys())[list(PandL_dict.values()).index(max_increase)])\n",
    "max_inc_month = max(PandL_dict, key=PandL_dict.get)"
   ]
  },
  {
   "cell_type": "code",
   "execution_count": 14,
   "metadata": {},
   "outputs": [
    {
     "data": {
      "text/plain": [
       "'Sep-2013'"
      ]
     },
     "execution_count": 14,
     "metadata": {},
     "output_type": "execute_result"
    }
   ],
   "source": [
    "# Use the value to find the date (key) that the max decrease occurred\n",
    "#max_dec_month = (list(PandL_dict.keys())[list(PandL_dict.values()).index(max_decrease)])\n",
    "max_dec_month = min(PandL_dict, key=PandL_dict.get)"
   ]
  },
  {
   "cell_type": "code",
   "execution_count": 15,
   "metadata": {},
   "outputs": [],
   "source": [
    "def analysis():\n",
    "    print(\"Financial Analysis\\n\")\n",
    "    print(\"-\"*28 + \"\\n\")\n",
    "    print(f\"Total Months: {total_months}\\n\")\n",
    "    print(f\"Total: ${total}\\n\")\n",
    "    print(\"Average Change: ${:.2f}\\n\".format(avg_change))\n",
    "    print(f\"Greatest Increase in Profits: {max_inc_month} ${max_increase}\\n\")\n",
    "    print(f\"Greatest Decrease in Profits: {max_dec_month} ${max_decrease}\\n\")"
   ]
  },
  {
   "cell_type": "code",
   "execution_count": 16,
   "metadata": {},
   "outputs": [
    {
     "name": "stdout",
     "output_type": "stream",
     "text": [
      "Financial Analysis\n",
      "\n",
      "----------------------------\n",
      "\n",
      "Total Months: 86\n",
      "\n",
      "Total: $38382578\n",
      "\n",
      "Average Change: $-2315.12\n",
      "\n",
      "Greatest Increase in Profits: Feb-2012 $1926159\n",
      "\n",
      "Greatest Decrease in Profits: Sep-2013 $-2196167\n",
      "\n"
     ]
    }
   ],
   "source": [
    "analysis()"
   ]
  },
  {
   "cell_type": "code",
   "execution_count": 17,
   "metadata": {},
   "outputs": [],
   "source": [
    "# Specify the file to write to\n",
    "output_file = \"budget_data.txt"
   ]
  },
  {
   "cell_type": "code",
   "execution_count": 18,
   "metadata": {},
   "outputs": [],
   "source": [
    "with open(output_file, \"w\") as outfile:\n",
    "    outfile.write(\"Financial Analysis\\n\")\n",
    "    outfile.write(\"-\"*28 + \"\\n\")\n",
    "    outfile.write(f\"Total Months: {total_months}\\n\")\n",
    "    outfile.write(f\"Total: ${total}\\n\")\n",
    "    outfile.write(\"Average Change: ${:.2f}\\n\".format(avg_change))\n",
    "    outfile.write(f\"Greatest Increase in Profits: {max_inc_month} ${max_increase}\\n\")\n",
    "    outfile.write(f\"Greatest Decrease in Profits: {max_dec_month} ${max_decrease}\\n\")"
   ]
  },
  {
   "cell_type": "code",
   "execution_count": null,
   "metadata": {},
   "outputs": [],
   "source": []
  }
 ],
 "metadata": {
  "kernelspec": {
   "display_name": "Conda [PythonData]",
   "language": "python",
   "name": "pythondata"
  },
  "language_info": {
   "codemirror_mode": {
    "name": "ipython",
    "version": 3
   },
   "file_extension": ".py",
   "mimetype": "text/x-python",
   "name": "python",
   "nbconvert_exporter": "python",
   "pygments_lexer": "ipython3",
   "version": "3.7.3"
  }
 },
 "nbformat": 4,
 "nbformat_minor": 2
}
