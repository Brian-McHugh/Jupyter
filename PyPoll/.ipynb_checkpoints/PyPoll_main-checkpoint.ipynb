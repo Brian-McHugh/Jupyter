{
 "cells": [
  {
   "cell_type": "code",
   "execution_count": 1,
   "metadata": {},
   "outputs": [],
   "source": [
    "# Calculate total number of votes cast in election_data.csv\n",
    "# Three columns: Voter ID, County, Candidate"
   ]
  },
  {
   "cell_type": "code",
   "execution_count": 2,
   "metadata": {},
   "outputs": [],
   "source": [
    "# Import dependencies\n",
    "import os\n",
    "import csv"
   ]
  },
  {
   "cell_type": "code",
   "execution_count": 3,
   "metadata": {},
   "outputs": [],
   "source": [
    "# Specify the path to access our data\n",
    "csv_path = os.path.join(\"Resources\", \"election_data.csv\")"
   ]
  },
  {
   "cell_type": "code",
   "execution_count": 4,
   "metadata": {},
   "outputs": [],
   "source": [
    "# Create lists for each category/column of the csv\n",
    "voterIDs = []\n",
    "counties = []\n",
    "votes = []"
   ]
  },
  {
   "cell_type": "code",
   "execution_count": 5,
   "metadata": {},
   "outputs": [],
   "source": [
    "# Open and read the csv file\n",
    "with open(csv_path, newline='') as csv_file:\n",
    "    csv_reader = csv.reader(csv_file, delimiter=',')\n",
    "    # Read the header row\n",
    "    csv_header = next(csv_reader)\n",
    "    \n",
    "    # Fill our lists with data\n",
    "    for voterID, county, candidate in csv_reader:\n",
    "        voterIDs.append(voterID) #might need to change to int\n",
    "        counties.append(county)\n",
    "        votes.append(candidate)"
   ]
  },
  {
   "cell_type": "code",
   "execution_count": 6,
   "metadata": {},
   "outputs": [],
   "source": [
    "# Create a list of candidates who received votes\n",
    "candidates = []\n",
    "for candidate in votes:\n",
    "    if candidate not in candidates:\n",
    "        candidates.append(candidate)\n",
    "        \n",
    "#print(candidates)"
   ]
  },
  {
   "cell_type": "code",
   "execution_count": 7,
   "metadata": {},
   "outputs": [],
   "source": [
    "# Total votes cast for all candidates\n",
    "total_votes = len(voterIDs)"
   ]
  },
  {
   "cell_type": "code",
   "execution_count": 8,
   "metadata": {},
   "outputs": [],
   "source": [
    "# Vote totals for each candidate\n",
    "khan_count = votes.count(\"Khan\")\n",
    "correy_count = votes.count(\"Correy\")\n",
    "li_count = votes.count(\"Li\")\n",
    "otooley_count = votes.count(\"O'Tooley\")"
   ]
  },
  {
   "cell_type": "code",
   "execution_count": 9,
   "metadata": {},
   "outputs": [],
   "source": [
    "# Percentage of total votes for each candidate\n",
    "khan_perc = round(khan_count / total_votes * 100)\n",
    "correy_perc = round(correy_count / total_votes * 100)\n",
    "li_perc = round(li_count / total_votes * 100)\n",
    "otooley_perc = round(otooley_count / total_votes * 100)"
   ]
  },
  {
   "cell_type": "code",
   "execution_count": 10,
   "metadata": {},
   "outputs": [],
   "source": [
    "# Check for the winner of the election\n",
    "candidates_ = {\"Khan\": khan_count, \"Correy\": correy_count, \"Li\": li_count, \"O'Tooley\": otooley_count}\n",
    "winner = max(candidates_, key=candidates_.get)\n",
    "#print(winner, \"is the winner\")"
   ]
  },
  {
   "cell_type": "code",
   "execution_count": 11,
   "metadata": {},
   "outputs": [],
   "source": [
    "def analysis():\n",
    "    print(\"Election Results\")\n",
    "    print(\"-\"*25)\n",
    "    print(f\"Total Votes: {total_votes}\")\n",
    "    print(\"-\"*25)\n",
    "    print(f\"Khan: {khan_perc}% ({khan_count})\")\n",
    "    print(f\"Correy: {correy_perc}% ({correy_count})\")\n",
    "    print(f\"Li: {li_perc}% ({li_count})\")\n",
    "    print(f\"O'Tooley: {otooley_perc}% ({otooley_count})\")\n",
    "    print(\"-\"*25)\n",
    "    print(f\"Winner: {winner}\")\n",
    "    print(\"-\"*25)"
   ]
  },
  {
   "cell_type": "code",
   "execution_count": 12,
   "metadata": {},
   "outputs": [
    {
     "name": "stdout",
     "output_type": "stream",
     "text": [
      "Election Results\n",
      "-------------------------\n",
      "Total Votes: 3521001\n",
      "-------------------------\n",
      "Khan: 63% (2218231)\n",
      "Correy: 20% (704200)\n",
      "Li: 14% (492940)\n",
      "O'Tooley: 3% (105630)\n",
      "-------------------------\n",
      "Winner: Khan\n",
      "-------------------------\n"
     ]
    }
   ],
   "source": [
    "analysis()"
   ]
  },
  {
   "cell_type": "code",
   "execution_count": 14,
   "metadata": {},
   "outputs": [],
   "source": [
    "# Specify the file to write to\n",
    "output_file = \"election_data.txt\""
   ]
  },
  {
   "cell_type": "code",
   "execution_count": 16,
   "metadata": {},
   "outputs": [],
   "source": [
    "with open(output_file, \"w\") as outfile:\n",
    "    outfile.write(\"Election Results\\n\")\n",
    "    outfile.write(\"-\"*25 + \"\\n\")\n",
    "    outfile.write(f\"Total Votes: {total_votes}\\n\")\n",
    "    outfile.write(\"-\"*25 + \"\\n\")\n",
    "    outfile.write(f\"Khan: {khan_perc}% ({khan_count})\\n\")\n",
    "    outfile.write(f\"Correy: {correy_perc}% ({correy_count})\\n\")\n",
    "    outfile.write(f\"Li: {li_perc}% ({li_count})\\n\")\n",
    "    outfile.write(f\"O'Tooley: {otooley_perc}% ({otooley_count})\\n\")\n",
    "    outfile.write(\"-\"*25 + \"\\n\")\n",
    "    outfile.write(f\"Winner: {winner}\\n\")\n",
    "    outfile.write(\"-\"*25 + \"\\n\")"
   ]
  },
  {
   "cell_type": "code",
   "execution_count": null,
   "metadata": {},
   "outputs": [],
   "source": []
  }
 ],
 "metadata": {
  "kernelspec": {
   "display_name": "Conda [PythonData]",
   "language": "python",
   "name": "pythondata"
  },
  "language_info": {
   "codemirror_mode": {
    "name": "ipython",
    "version": 3
   },
   "file_extension": ".py",
   "mimetype": "text/x-python",
   "name": "python",
   "nbconvert_exporter": "python",
   "pygments_lexer": "ipython3",
   "version": "3.7.3"
  }
 },
 "nbformat": 4,
 "nbformat_minor": 2
}
